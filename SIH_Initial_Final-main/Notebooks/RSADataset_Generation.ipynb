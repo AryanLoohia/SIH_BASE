{
  "nbformat": 4,
  "nbformat_minor": 0,
  "metadata": {
    "colab": {
      "provenance": []
    },
    "kernelspec": {
      "name": "python3",
      "display_name": "Python 3"
    },
    "language_info": {
      "name": "python"
    }
  },
  "cells": [
    {
      "cell_type": "code",
      "execution_count": null,
      "metadata": {
        "colab": {
          "base_uri": "https://localhost:8080/"
        },
        "id": "RhqI_IkfaoOt",
        "outputId": "6b5eddcf-f48a-497e-daa7-3c84d87aa155"
      },
      "outputs": [
        {
          "output_type": "stream",
          "name": "stdout",
          "text": [
            "Requirement already satisfied: cryptography in /usr/local/lib/python3.10/dist-packages (43.0.0)\n",
            "Collecting pycryptodome\n",
            "  Downloading pycryptodome-3.20.0-cp35-abi3-manylinux_2_17_x86_64.manylinux2014_x86_64.whl.metadata (3.4 kB)\n",
            "\u001b[31mERROR: Ignored the following yanked versions: 20081119\u001b[0m\u001b[31m\n",
            "\u001b[0m\u001b[31mERROR: Could not find a version that satisfies the requirement hashlib (from versions: none)\u001b[0m\u001b[31m\n",
            "\u001b[0m\u001b[31mERROR: No matching distribution found for hashlib\u001b[0m\u001b[31m\n",
            "\u001b[0m"
          ]
        }
      ],
      "source": [
        "%pip install cryptography pycryptodome hashlib sklearn keras tensorflow numpy pandas\n"
      ]
    },
    {
      "cell_type": "code",
      "source": [
        "%pip install Crypto"
      ],
      "metadata": {
        "colab": {
          "base_uri": "https://localhost:8080/"
        },
        "id": "yM-GSJbzbrXR",
        "outputId": "830b8244-422d-427a-f5be-3ad7ce1fcc8a"
      },
      "execution_count": null,
      "outputs": [
        {
          "output_type": "stream",
          "name": "stdout",
          "text": [
            "Collecting Crypto\n",
            "  Downloading crypto-1.4.1-py2.py3-none-any.whl.metadata (3.4 kB)\n",
            "Collecting Naked (from Crypto)\n",
            "  Downloading Naked-0.1.32-py2.py3-none-any.whl.metadata (931 bytes)\n",
            "Collecting shellescape (from Crypto)\n",
            "  Downloading shellescape-3.8.1-py2.py3-none-any.whl.metadata (2.8 kB)\n",
            "Requirement already satisfied: requests in /usr/local/lib/python3.10/dist-packages (from Naked->Crypto) (2.32.3)\n",
            "Requirement already satisfied: pyyaml in /usr/local/lib/python3.10/dist-packages (from Naked->Crypto) (6.0.2)\n",
            "Requirement already satisfied: charset-normalizer<4,>=2 in /usr/local/lib/python3.10/dist-packages (from requests->Naked->Crypto) (3.3.2)\n",
            "Requirement already satisfied: idna<4,>=2.5 in /usr/local/lib/python3.10/dist-packages (from requests->Naked->Crypto) (3.8)\n",
            "Requirement already satisfied: urllib3<3,>=1.21.1 in /usr/local/lib/python3.10/dist-packages (from requests->Naked->Crypto) (2.0.7)\n",
            "Requirement already satisfied: certifi>=2017.4.17 in /usr/local/lib/python3.10/dist-packages (from requests->Naked->Crypto) (2024.8.30)\n",
            "Downloading crypto-1.4.1-py2.py3-none-any.whl (18 kB)\n",
            "Downloading Naked-0.1.32-py2.py3-none-any.whl (587 kB)\n",
            "\u001b[2K   \u001b[90m━━━━━━━━━━━━━━━━━━━━━━━━━━━━━━━━━━━━━━━━\u001b[0m \u001b[32m587.7/587.7 kB\u001b[0m \u001b[31m11.4 MB/s\u001b[0m eta \u001b[36m0:00:00\u001b[0m\n",
            "\u001b[?25hDownloading shellescape-3.8.1-py2.py3-none-any.whl (3.1 kB)\n",
            "Installing collected packages: shellescape, Naked, Crypto\n",
            "Successfully installed Crypto-1.4.1 Naked-0.1.32 shellescape-3.8.1\n"
          ]
        }
      ]
    },
    {
      "cell_type": "code",
      "source": [
        "import os\n",
        "import random\n",
        "from cryptography.hazmat.primitives.asymmetric import rsa, padding\n",
        "from cryptography.hazmat.primitives import hashes\n",
        "from cryptography.hazmat.backends import default_backend\n",
        "\n",
        "def rsa_encrypt_with_variations(input_data):\n",
        "    # Vary the key size (1024, 2048, 4096 bits)\n",
        "    key_size = random.choice([1024, 2048, 4096])\n",
        "\n",
        "    private_key = rsa.generate_private_key(\n",
        "        public_exponent=65537,\n",
        "        key_size=key_size,\n",
        "        backend=default_backend()\n",
        "    )\n",
        "    public_key = private_key.public_key()\n",
        "\n",
        "    # Vary the padding scheme\n",
        "    if random.choice([True, False]):\n",
        "        # Use OAEP padding\n",
        "        rsa_padding = padding.OAEP(\n",
        "            mgf=padding.MGF1(algorithm=hashes.SHA256()),\n",
        "            algorithm=hashes.SHA256(),\n",
        "            label=None\n",
        "        )\n",
        "    else:\n",
        "        # Use PKCS1v1.5 padding\n",
        "        rsa_padding = padding.PKCS1v15()\n",
        "\n",
        "    encrypted_data = public_key.encrypt(input_data, rsa_padding)\n",
        "\n",
        "    return encrypted_data.hex()\n",
        "\n",
        "# Example use\n",
        "rsa_encrypted_varied = rsa_encrypt_with_variations(os.urandom(32))\n",
        "print(\"Varied RSA Encrypted (Hex):\", rsa_encrypted_varied)\n"
      ],
      "metadata": {
        "colab": {
          "base_uri": "https://localhost:8080/"
        },
        "id": "RHcm79DqbbeI",
        "outputId": "e40e3d8f-d76b-4a28-e7be-028d800668c4"
      },
      "execution_count": null,
      "outputs": [
        {
          "output_type": "stream",
          "name": "stdout",
          "text": [
            "Varied RSA Encrypted (Hex): 7b565349ec6b162ce1c2d44f9528dc7a9c96a937847d75639be294d9fe20ad464d243c75510db5b5a31a21730134907f9dc10b7f43804c7bdd1e7b2af69ace5abe1a81b44119567a35eb72d39743288e563de63803baa86613c6b50cae8a75a2e403df9b54dfc77c889ffd21690361c7e460f60d6b73ed08f5b137c1923523d0c74b2379f472b1a5ed2286da8fd45423a1fd480d70624b0f37bbff4ac1a044eeadafb78bdfeaa1d3e091ca88a7072c7a6dede7a5528bd3d057016457bfe0cd4ba664297d22a968847437cabb04a3561c9b290d2c78df1121058e0123cae194f51d02ba3dd3699a170e05474a85ab0fb52d38c3afad04ca00f26b068002104b6f2886f3f8b7761e6ace308a74710d2cd5fb859312ac9320c7df1d6f90365287e4acdbc508341d5ee508c2ee16ec001752f1e033f0a56d2ddde63261d9a591d56cc35ade076af55f0bd550bb4379ea8f2f76acd20c4134046c304024075136a8c26216e7e93f7c30a56d86f2213f4fb1f5d76a742e421550c693e1ec34abbc4ea245ca71db6c8a7d322f14bc14f89fc4453e3436cba89832b9d98c0568917da780faf504b9940107add2bf83a348eb8b02da9a906d3220424db7529e2c2fe304e3431e299c4fecfa144d2edee707b95edced8647158b05cb484d367a7674152fa8f4941fb135bdab791c5750d45a8ba92d884dd2c271ec50fcc0cb58badc580452\n"
          ]
        }
      ]
    },
    {
      "cell_type": "code",
      "source": [
        "from cryptography.hazmat.primitives.ciphers import Cipher, algorithms, modes\n",
        "from cryptography.hazmat.primitives import padding\n",
        "from cryptography.hazmat.primitives import hashes\n",
        "from cryptography.hazmat.backends import default_backend\n",
        "import os\n",
        "import random\n",
        "\n",
        "def aes_encrypt_with_cryptography(input_data):\n",
        "    # Vary key size: 128-bit, 192-bit, 256-bit\n",
        "    key_size = random.choice([16, 24, 32])  # 16 bytes = 128-bit, 24 bytes = 192-bit, 32 bytes = 256-bit\n",
        "    key = os.urandom(key_size)  # Random key generation\n",
        "\n",
        "    # Vary mode of operation: CBC, GCM\n",
        "    aes_mode = random.choice([modes.CBC, modes.GCM])\n",
        "\n",
        "    # Generate random IV\n",
        "    iv = os.urandom(16)\n",
        "\n",
        "    if aes_mode == modes.CBC:\n",
        "        cipher = Cipher(algorithms.AES(key), aes_mode(iv), backend=default_backend())\n",
        "        encryptor = cipher.encryptor()\n",
        "        padder = padding.PKCS7(algorithms.AES.block_size).padder()\n",
        "        padded_data = padder.update(input_data) + padder.finalize()\n",
        "        ciphertext = encryptor.update(padded_data) + encryptor.finalize()\n",
        "        return iv.hex() + ciphertext.hex()  # IV + ciphertext\n",
        "    else:\n",
        "        cipher = Cipher(algorithms.AES(key), aes_mode(iv), backend=default_backend())\n",
        "        encryptor = cipher.encryptor()\n",
        "        ciphertext = encryptor.update(input_data) + encryptor.finalize()\n",
        "        return iv.hex() + ciphertext.hex()  # IV + ciphertext\n",
        "\n",
        "# Example use\n",
        "aes_encrypted_varied = aes_encrypt_with_cryptography(os.urandom(32))\n",
        "print(\"Varied AES Encrypted (Hex):\", aes_encrypted_varied)\n"
      ],
      "metadata": {
        "colab": {
          "base_uri": "https://localhost:8080/"
        },
        "id": "4hCpnXTnbdNw",
        "outputId": "024bab44-9346-4336-9cc0-5a84dad70087"
      },
      "execution_count": null,
      "outputs": [
        {
          "output_type": "stream",
          "name": "stdout",
          "text": [
            "Varied AES Encrypted (Hex): e68d5833f00630bfe30516f77043c4e254d4221f56c6be051069fdf8590f5ad408beb380bcb7d692fc2bc3d36d40bf7aa3aaa352d015dbc95a32496faa313e2d\n"
          ]
        }
      ]
    },
    {
      "cell_type": "code",
      "source": [
        "import numpy as np"
      ],
      "metadata": {
        "id": "z8YLWYfjcwHe"
      },
      "execution_count": null,
      "outputs": []
    },
    {
      "cell_type": "code",
      "source": [
        "from cryptography.hazmat.primitives import hashes\n",
        "from cryptography.hazmat.backends import default_backend\n",
        "\n",
        "def hash_with_cryptography(input_data):\n",
        "    # Vary the hashing algorithm\n",
        "    hash_algorithm = random.choice([hashes.SHA1(), hashes.SHA256(), hashes.SHA512()])\n",
        "\n",
        "    digest = hashes.Hash(hash_algorithm, backend=default_backend())\n",
        "    digest.update(input_data)\n",
        "    return digest.finalize().hex()\n",
        "\n",
        "# Example use\n",
        "input_str = os.urandom(32)  # Random 32-byte input\n",
        "hashed_result = hash_with_cryptography(input_str)\n",
        "print(\"Hashed with cryptography (Hex):\", hashed_result)\n"
      ],
      "metadata": {
        "colab": {
          "base_uri": "https://localhost:8080/"
        },
        "id": "-2Bbn61Sbfyt",
        "outputId": "eee19489-2e17-40eb-88ae-91f4a09a3f61"
      },
      "execution_count": null,
      "outputs": [
        {
          "output_type": "stream",
          "name": "stdout",
          "text": [
            "Hashed with cryptography (Hex): e69b0264fdb29f736e9ce55bff48188931e907c36e4c3267ad655b3b5ff4e773\n"
          ]
        }
      ]
    },
    {
      "cell_type": "code",
      "source": [
        "import pandas as pd\n",
        "\n",
        "def generate_varied_dataset(num_samples=1000):\n",
        "    original = []\n",
        "    data = []\n",
        "    hex = []\n",
        "    labels = []\n",
        "\n",
        "\n",
        "    # for _ in range(num_samples):\n",
        "        # Random input string\n",
        "    input_str = [\"a\", \"b\", \"c\", \"d\"]\n",
        "    for i in input_str:\n",
        "        # RSA\n",
        "        rsa_encrypted = rsa_encrypt_with_variations(input_str)\n",
        "        hex_data = rsa_encrypted.hex()\n",
        "        original.append(input_str)\n",
        "        data.append(rsa_encrypted)\n",
        "        hex.append(hex_data)\n",
        "        labels.append('RSA')\n",
        "\n",
        "        # # AES\n",
        "        # aes_encrypted = aes_encrypt_with_variations(input_str)\n",
        "        # data.append(aes_encrypted)\n",
        "        # labels.append('AES')\n",
        "\n",
        "        # # SHA\n",
        "        # sha_hashed = hash_with_cryptography(input_str)\n",
        "        # data.append(sha_hashed)\n",
        "        # labels.append('SHA')\n",
        "\n",
        "    return pd.DataFrame({'original': original, 'encrypted_text': data, 'hex': hex, 'label': labels})\n",
        "\n",
        "# Generate the varied dataset\n",
        "varied_dataset = generate_varied_dataset()\n",
        "print(varied_dataset.head())\n",
        "\n",
        "# Save the varied dataset\n",
        "# varied_dataset.to_csv('varied_encryption_dataset.csv', index=False)"
      ],
      "metadata": {
        "id": "AcaZ3A9Nbht9",
        "colab": {
          "base_uri": "https://localhost:8080/",
          "height": 356
        },
        "outputId": "67aabb5c-d447-48dd-ae47-209ac4437c81"
      },
      "execution_count": null,
      "outputs": [
        {
          "output_type": "error",
          "ename": "TypeError",
          "evalue": "argument 'plaintext': 'list' object cannot be converted to 'PyBytes'",
          "traceback": [
            "\u001b[0;31m---------------------------------------------------------------------------\u001b[0m",
            "\u001b[0;31mTypeError\u001b[0m                                 Traceback (most recent call last)",
            "\u001b[0;32m<ipython-input-6-ba8c116fbb38>\u001b[0m in \u001b[0;36m<cell line: 35>\u001b[0;34m()\u001b[0m\n\u001b[1;32m     33\u001b[0m \u001b[0;34m\u001b[0m\u001b[0m\n\u001b[1;32m     34\u001b[0m \u001b[0;31m# Generate the varied dataset\u001b[0m\u001b[0;34m\u001b[0m\u001b[0;34m\u001b[0m\u001b[0m\n\u001b[0;32m---> 35\u001b[0;31m \u001b[0mvaried_dataset\u001b[0m \u001b[0;34m=\u001b[0m \u001b[0mgenerate_varied_dataset\u001b[0m\u001b[0;34m(\u001b[0m\u001b[0;34m)\u001b[0m\u001b[0;34m\u001b[0m\u001b[0;34m\u001b[0m\u001b[0m\n\u001b[0m\u001b[1;32m     36\u001b[0m \u001b[0mprint\u001b[0m\u001b[0;34m(\u001b[0m\u001b[0mvaried_dataset\u001b[0m\u001b[0;34m.\u001b[0m\u001b[0mhead\u001b[0m\u001b[0;34m(\u001b[0m\u001b[0;34m)\u001b[0m\u001b[0;34m)\u001b[0m\u001b[0;34m\u001b[0m\u001b[0;34m\u001b[0m\u001b[0m\n\u001b[1;32m     37\u001b[0m \u001b[0;34m\u001b[0m\u001b[0m\n",
            "\u001b[0;32m<ipython-input-6-ba8c116fbb38>\u001b[0m in \u001b[0;36mgenerate_varied_dataset\u001b[0;34m(num_samples)\u001b[0m\n\u001b[1;32m     13\u001b[0m     \u001b[0;32mfor\u001b[0m \u001b[0mi\u001b[0m \u001b[0;32min\u001b[0m \u001b[0minput_str\u001b[0m\u001b[0;34m:\u001b[0m\u001b[0;34m\u001b[0m\u001b[0;34m\u001b[0m\u001b[0m\n\u001b[1;32m     14\u001b[0m         \u001b[0;31m# RSA\u001b[0m\u001b[0;34m\u001b[0m\u001b[0;34m\u001b[0m\u001b[0m\n\u001b[0;32m---> 15\u001b[0;31m         \u001b[0mrsa_encrypted\u001b[0m \u001b[0;34m=\u001b[0m \u001b[0mrsa_encrypt_with_variations\u001b[0m\u001b[0;34m(\u001b[0m\u001b[0minput_str\u001b[0m\u001b[0;34m)\u001b[0m\u001b[0;34m\u001b[0m\u001b[0;34m\u001b[0m\u001b[0m\n\u001b[0m\u001b[1;32m     16\u001b[0m         \u001b[0mhex_data\u001b[0m \u001b[0;34m=\u001b[0m \u001b[0mrsa_encrypted\u001b[0m\u001b[0;34m.\u001b[0m\u001b[0mhex\u001b[0m\u001b[0;34m(\u001b[0m\u001b[0;34m)\u001b[0m\u001b[0;34m\u001b[0m\u001b[0;34m\u001b[0m\u001b[0m\n\u001b[1;32m     17\u001b[0m         \u001b[0moriginal\u001b[0m\u001b[0;34m.\u001b[0m\u001b[0mappend\u001b[0m\u001b[0;34m(\u001b[0m\u001b[0minput_str\u001b[0m\u001b[0;34m)\u001b[0m\u001b[0;34m\u001b[0m\u001b[0;34m\u001b[0m\u001b[0m\n",
            "\u001b[0;32m<ipython-input-5-087029f00168>\u001b[0m in \u001b[0;36mrsa_encrypt_with_variations\u001b[0;34m(input_data)\u001b[0m\n\u001b[1;32m     28\u001b[0m         \u001b[0mrsa_padding\u001b[0m \u001b[0;34m=\u001b[0m \u001b[0mpadding\u001b[0m\u001b[0;34m.\u001b[0m\u001b[0mPKCS1v15\u001b[0m\u001b[0;34m(\u001b[0m\u001b[0;34m)\u001b[0m\u001b[0;34m\u001b[0m\u001b[0;34m\u001b[0m\u001b[0m\n\u001b[1;32m     29\u001b[0m \u001b[0;34m\u001b[0m\u001b[0m\n\u001b[0;32m---> 30\u001b[0;31m     \u001b[0mencrypted_data\u001b[0m \u001b[0;34m=\u001b[0m \u001b[0mpublic_key\u001b[0m\u001b[0;34m.\u001b[0m\u001b[0mencrypt\u001b[0m\u001b[0;34m(\u001b[0m\u001b[0minput_data\u001b[0m\u001b[0;34m,\u001b[0m \u001b[0mrsa_padding\u001b[0m\u001b[0;34m)\u001b[0m\u001b[0;34m\u001b[0m\u001b[0;34m\u001b[0m\u001b[0m\n\u001b[0m\u001b[1;32m     31\u001b[0m \u001b[0;34m\u001b[0m\u001b[0m\n\u001b[1;32m     32\u001b[0m     \u001b[0;32mreturn\u001b[0m \u001b[0mencrypted_data\u001b[0m\u001b[0;34m.\u001b[0m\u001b[0mhex\u001b[0m\u001b[0;34m(\u001b[0m\u001b[0;34m)\u001b[0m\u001b[0;34m\u001b[0m\u001b[0;34m\u001b[0m\u001b[0m\n",
            "\u001b[0;31mTypeError\u001b[0m: argument 'plaintext': 'list' object cannot be converted to 'PyBytes'"
          ]
        }
      ]
    },
    {
      "cell_type": "code",
      "source": [],
      "metadata": {
        "id": "zXMHzJ0Vbj03"
      },
      "execution_count": null,
      "outputs": []
    }
  ]
}