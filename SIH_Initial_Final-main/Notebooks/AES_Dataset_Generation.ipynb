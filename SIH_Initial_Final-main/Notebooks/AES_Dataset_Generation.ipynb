{
  "nbformat": 4,
  "nbformat_minor": 0,
  "metadata": {
    "colab": {
      "provenance": []
    },
    "kernelspec": {
      "name": "python3",
      "display_name": "Python 3"
    },
    "language_info": {
      "name": "python"
    }
  },
  "cells": [
    {
      "cell_type": "code",
      "execution_count": null,
      "metadata": {
        "colab": {
          "base_uri": "https://localhost:8080/"
        },
        "id": "hce3N3pz-w06",
        "outputId": "a71466c1-f05b-4c24-f615-f50d84e86596"
      },
      "outputs": [
        {
          "output_type": "stream",
          "name": "stdout",
          "text": [
            "\u001b[31mERROR: Could not find a version that satisfies the requirement os (from versions: none)\u001b[0m\u001b[31m\n",
            "\u001b[0m\u001b[31mERROR: No matching distribution found for os\u001b[0m\u001b[31m\n",
            "\u001b[0m"
          ]
        }
      ],
      "source": [
        "%pip install os csv cryptography"
      ]
    },
    {
      "cell_type": "code",
      "source": [
        "import random\n",
        "\n",
        "def split_text(text, min_size=128, max_size=160):\n",
        "    blocks = []\n",
        "    while text:\n",
        "        # Choose a random block size between min_size and max_size\n",
        "        block_size = random.randint(min_size, max_size)\n",
        "\n",
        "        # Append the block to the list\n",
        "        blocks.append(text[:block_size])\n",
        "        text = text[block_size:]\n",
        "\n",
        "    return blocks\n",
        "\n",
        "# The ciphertext text provided\n",
        "ciphertext = \"\"\"\n",
        "Your online banking access has been temporarily suspended due to unusual login attempts. To regain access, please confirm your email address and date of birth. Never use the same password for your online banking account that you use on other websites. What is your mobile phone number? It’s required for two-factor authentication. Always log out after completing any banking transaction on a public or shared device. To confirm your identity, enter the last four digits of your social security number. What is your bank account number? It’s needed to complete this transfer.\n",
        "\n",
        "Your debit card has been temporarily blocked due to suspicious activity. Please confirm your last purchase by providing your card number and expiration date. Always use a unique and strong password for each of your financial accounts. What is the 3-digit security code on the back of your debit card? It is needed to complete your transaction. Never share your security PIN with anyone over the phone or via email. For increased protection, enable alerts for any transactions made from your account. Please confirm your billing address to continue with this payment.\n",
        "\n",
        "Your account has been flagged for review after multiple failed login attempts. Always be cautious when receiving unsolicited emails asking for personal information. What was the make of your first car? It’s required for identity verification. To proceed with your purchase, please confirm the 3-digit code on your card. For enhanced security, always log in using a private or secure network. What is your social security number? It is required to verify your identity. To reset your password, provide the answer to your security question and your date of birth.\n",
        "\n",
        "Your banking session has expired for security purposes. Always ensure you’re using an up-to-date version of your banking app. To continue, please confirm the amount of your last transaction. Never store your password in an unencrypted format. What is your driver’s license number? It is needed for identity verification. Always enable biometric login features if available, for additional protection. What is your security question answer? It is required to recover your account. Verify your last transaction to avoid further restrictions on your account.\n",
        "\n",
        "Your card has been declined due to an incorrect PIN entry. Please verify your last transaction to unlock your card. What is your billing zip code? It is needed to confirm your payment details. Always update your account information regularly to ensure you receive security notifications. Never click on suspicious links asking for personal or banking information. To verify your identity, provide your social security number and date of birth. For extra security, enable app notifications for every transaction on your account. Please confirm your address to complete this transaction.\n",
        "\n",
        "Your banking account has been temporarily deactivated. To regain access, confirm your identity by entering the last four digits of your social security number. Always use a different password for your financial accounts and personal emails. What is your online banking username? It’s required to log in to your account. Never give your password to anyone, even if they claim to be from the bank. For security purposes, we recommend enabling two-factor authentication on all accounts. To continue with your purchase, please confirm the 3-digit security code on your card.\n",
        "\n",
        "Your account has been flagged for suspicious activity. To proceed, confirm your identity by providing the last four digits of your social security number. Always monitor your account for any unauthorized activity. What is your bank routing number? It is required to complete this wire transfer. For extra protection, log out after every banking session, especially on shared devices. What is your security question answer? It’s needed to confirm your identity for account recovery. Please confirm your current billing address to continue with this purchase.\n",
        "\n",
        "Your online banking session has been logged out for inactivity. What is your driver’s license number? It’s required for identity verification. Always use a strong, unique password that includes special characters and numbers. Never share your personal identification number (PIN) with anyone, including bank employees. For security purposes, review your recent transactions for any suspicious activity. Please confirm your last transaction to avoid further account restrictions. What is your mobile phone number? It’s needed for two-factor authentication.\n",
        "\n",
        "Your account has been temporarily frozen due to suspicious login attempts. To unlock your account, please verify your identity by answering your security question. What is your bank routing number? It is required for identity verification. Always use complex passwords that are difficult to guess. To confirm your transaction, please provide your debit card number and expiration date. Never store your passwords in easily accessible places. What was the model of your first car? It is needed to recover your account in case of security issues.\n",
        "\n",
        "Your session has been timed out for security reasons. Always log out of your banking account after every transaction. Please verify your current billing address to continue with your payment. What is your email address associated with this account? It’s required for account verification. Never respond to unsolicited requests asking for personal or financial information. What is your driver’s license number? It’s needed for identity verification. Always be cautious when accessing your account from public Wi-Fi networks. To verify your identity, confirm the last four digits of your social security number.\n",
        "\n",
        "Your debit card has been flagged for unusual activity. Please confirm your recent transactions to reactivate it. What is your username for online banking? It is required to log in to your account. Always use a password manager to store and generate secure passwords. To complete this payment, confirm the 3-digit security code on your card. What is your birth date? It is required to verify your identity for account recovery. Always enable security notifications for all transactions on your banking account.\n",
        "\n",
        "Your online banking session has expired. For security reasons, please verify your last transaction to continue. What is your mobile phone number? It’s needed for two-factor authentication. Always use secure methods, such as biometric verification, when accessing your financial accounts. What is your current address? It is required to update your account details. To reset your password, provide your email address associated with this account. Please confirm your last five transactions to avoid account restrictions.\n",
        "\n",
        "Your banking session has been interrupted due to suspicious activity. To restore access, please confirm your identity by providing the last four digits of your social security number. Never share your PIN or password with anyone, even trusted sources. What is your mobile phone number? It’s required for two-factor authentication and account security. Always ensure you log out of your account after every online session. Please confirm the 3-digit security code on the back of your card to complete your purchase.\n",
        "\n",
        "Your card has been flagged for review after unusual transactions. Always use a strong, unique password that includes letters, numbers, and symbols. What is your driver’s license number? It’s required for identity verification. For additional security, we recommend enabling transaction alerts for every withdrawal or payment made. To proceed with your transfer, confirm your billing address. Never store your password in unprotected files or documents. For your protection, please review your recent transactions and confirm any discrepancies. What is the model of your first car? It helps with account recovery.\n",
        "\n",
        "Your account has been flagged for unusual login attempts. To proceed, confirm your username for online banking. Never use the same password across multiple accounts. To complete this purchase, please provide your debit card number and expiration date. Always use a VPN when accessing your bank accounts from public networks. What is the last four digits of your social security number? It’s required for identity verification. Please verify your recent transactions to avoid further account restrictions.\n",
        "\n",
        "Your password reset request has been processed successfully. To log in, enter your username and the new password. Always monitor your account for unauthorized activity and report suspicious transactions immediately. What is your mother’s maiden name? It’s needed to recover your account. Never disclose your password in response to unsolicited emails or messages. To verify your transaction, confirm the 3-digit security code on your card. Always use secure, encrypted methods to manage your online banking information.\n",
        "\"\"\"\n",
        "\n",
        "# Split the text into blocks\n",
        "blocks = split_text(ciphertext)\n",
        "length_of_list = len(blocks)\n",
        "\n",
        "blocks, length_of_list"
      ],
      "metadata": {
        "colab": {
          "base_uri": "https://localhost:8080/"
        },
        "id": "mGsSyNmOAln_",
        "outputId": "a4be00fa-ecad-478a-bfa2-6e2ce5bdf307"
      },
      "execution_count": null,
      "outputs": [
        {
          "output_type": "execute_result",
          "data": {
            "text/plain": [
              "(['\\nYour online banking access has been temporarily suspended due to unusual login attempts. To regain access, please confirm your email add',\n",
              "  'ress and date of birth. Never use the same password for your online banking account that you use on other websites. What is your mobile phone number? It’s re',\n",
              "  'quired for two-factor authentication. Always log out after completing any banking transaction on a public or shared device. To confirm your iden',\n",
              "  'tity, enter the last four digits of your social security number. What is your bank account number? It’s needed to complete this transfer.\\n\\nYour debit ca',\n",
              "  'rd has been temporarily blocked due to suspicious activity. Please confirm your last purchase by providing your card number and expiration date. Always use a un',\n",
              "  'ique and strong password for each of your financial accounts. What is the 3-digit security code on the back of your debit card? It is needed to complete your t',\n",
              "  'ransaction. Never share your security PIN with anyone over the phone or via email. For increased protection, enable alerts for any transactions made f',\n",
              "  'rom your account. Please confirm your billing address to continue with this payment.\\n\\nYour account has been flagged for review aft',\n",
              "  'er multiple failed login attempts. Always be cautious when receiving unsolicited emails asking for personal information. What was the make of your first car? ',\n",
              "  'It’s required for identity verification. To proceed with your purchase, please confirm the 3-digit code on your card. For enhanced security, always ',\n",
              "  'log in using a private or secure network. What is your social security number? It is required to verify your identity. To reset your password, provide t',\n",
              "  'he answer to your security question and your date of birth.\\n\\nYour banking session has expired for security purposes. Always ensure you',\n",
              "  '’re using an up-to-date version of your banking app. To continue, please confirm the amount of your last transaction. Never store your pass',\n",
              "  'word in an unencrypted format. What is your driver’s license number? It is needed for identity verification. Always enable biometric log',\n",
              "  'in features if available, for additional protection. What is your security question answer? It is required to recover your account. V',\n",
              "  'erify your last transaction to avoid further restrictions on your account.\\n\\nYour card has been declined due to an incorrect PIN entry.',\n",
              "  ' Please verify your last transaction to unlock your card. What is your billing zip code? It is needed to confirm your payment details. Alway',\n",
              "  's update your account information regularly to ensure you receive security notifications. Never click on suspicious links asking ',\n",
              "  'for personal or banking information. To verify your identity, provide your social security number and date of birth. For extra security, en',\n",
              "  'able app notifications for every transaction on your account. Please confirm your address to complete this transaction.\\n\\nYour banking account has',\n",
              "  ' been temporarily deactivated. To regain access, confirm your identity by entering the last four digits of your social security nu',\n",
              "  'mber. Always use a different password for your financial accounts and personal emails. What is your online banking username? It’s required to log in to your ac',\n",
              "  'count. Never give your password to anyone, even if they claim to be from the bank. For security purposes, we recommend enabling two-fac',\n",
              "  'tor authentication on all accounts. To continue with your purchase, please confirm the 3-digit security code on your card.\\n\\nYour account has been flagg',\n",
              "  'ed for suspicious activity. To proceed, confirm your identity by providing the last four digits of your social security number. Always monitor',\n",
              "  ' your account for any unauthorized activity. What is your bank routing number? It is required to complete this wire transfer. For extra protecti',\n",
              "  'on, log out after every banking session, especially on shared devices. What is your security question answer? It’s needed to confirm your identity for',\n",
              "  ' account recovery. Please confirm your current billing address to continue with this purchase.\\n\\nYour online banking session has been logged out for inac',\n",
              "  'tivity. What is your driver’s license number? It’s required for identity verification. Always use a strong, unique password that includes special characters a',\n",
              "  'nd numbers. Never share your personal identification number (PIN) with anyone, including bank employees. For security purposes, review your recent tran',\n",
              "  'sactions for any suspicious activity. Please confirm your last transaction to avoid further account restrictions. What is your mobile phone numbe',\n",
              "  'r? It’s needed for two-factor authentication.\\n\\nYour account has been temporarily frozen due to suspicious login attempts. To unlock your account, pleas',\n",
              "  'e verify your identity by answering your security question. What is your bank routing number? It is required for identity verification. Always use c',\n",
              "  'omplex passwords that are difficult to guess. To confirm your transaction, please provide your debit card number and expiration date. Never store you',\n",
              "  'r passwords in easily accessible places. What was the model of your first car? It is needed to recover your account in case of security issues.\\n\\nYour sessio',\n",
              "  'n has been timed out for security reasons. Always log out of your banking account after every transaction. Please verify your current billing address ',\n",
              "  'to continue with your payment. What is your email address associated with this account? It’s required for account verification. Never respond to unsolic',\n",
              "  'ited requests asking for personal or financial information. What is your driver’s license number? It’s needed for identity verification. Alwa',\n",
              "  'ys be cautious when accessing your account from public Wi-Fi networks. To verify your identity, confirm the last four digits of your social security numb',\n",
              "  'er.\\n\\nYour debit card has been flagged for unusual activity. Please confirm your recent transactions to reactivate it. What is you',\n",
              "  'r username for online banking? It is required to log in to your account. Always use a password manager to store and generate secure passwords. To com',\n",
              "  'plete this payment, confirm the 3-digit security code on your card. What is your birth date? It is required to verify your identity for account recove',\n",
              "  'ry. Always enable security notifications for all transactions on your banking account.\\n\\nYour online banking session has expired. For security reasons, p',\n",
              "  'lease verify your last transaction to continue. What is your mobile phone number? It’s needed for two-factor authentication. Always use secure methods, such ',\n",
              "  'as biometric verification, when accessing your financial accounts. What is your current address? It is required to update your account details. To reset y',\n",
              "  'our password, provide your email address associated with this account. Please confirm your last five transactions to avoid account r',\n",
              "  'estrictions.\\n\\nYour banking session has been interrupted due to suspicious activity. To restore access, please confirm your identity by pro',\n",
              "  'viding the last four digits of your social security number. Never share your PIN or password with anyone, even trusted sources. What is your mobile phone n',\n",
              "  'umber? It’s required for two-factor authentication and account security. Always ensure you log out of your account after every online session',\n",
              "  '. Please confirm the 3-digit security code on the back of your card to complete your purchase.\\n\\nYour card has been flagged for r',\n",
              "  'eview after unusual transactions. Always use a strong, unique password that includes letters, numbers, and symbols. What is your driver’s license n',\n",
              "  'umber? It’s required for identity verification. For additional security, we recommend enabling transaction alerts for every with',\n",
              "  'drawal or payment made. To proceed with your transfer, confirm your billing address. Never store your password in unprotected files or documents. For your p',\n",
              "  'rotection, please review your recent transactions and confirm any discrepancies. What is the model of your first car? It helps with account recovery.\\n\\nYour acco',\n",
              "  'unt has been flagged for unusual login attempts. To proceed, confirm your username for online banking. Never use the same password across multiple accounts. To',\n",
              "  ' complete this purchase, please provide your debit card number and expiration date. Always use a VPN when accessing your bank accounts ',\n",
              "  'from public networks. What is the last four digits of your social security number? It’s required for identity verification. Please verify ',\n",
              "  'your recent transactions to avoid further account restrictions.\\n\\nYour password reset request has been processed successfully. To log in, enter yo',\n",
              "  'ur username and the new password. Always monitor your account for unauthorized activity and report suspicious transactions immediately. What i',\n",
              "  's your mother’s maiden name? It’s needed to recover your account. Never disclose your password in response to unsolicited emails or messages. To v',\n",
              "  'erify your transaction, confirm the 3-digit security code on your card. Always use secure, encrypted methods to manage your online banking information.\\n'],\n",
              " 61)"
            ]
          },
          "metadata": {},
          "execution_count": 28
        }
      ]
    },
    {
      "cell_type": "code",
      "source": [
        "from cryptography.hazmat.primitives.ciphers import Cipher, algorithms, modes\n",
        "from cryptography.hazmat.primitives import padding\n",
        "from cryptography.hazmat.primitives import hashes\n",
        "from cryptography.hazmat.backends import default_backend\n",
        "import os\n",
        "import random\n",
        "import csv\n",
        "\n",
        "crypto_terms = blocks\n",
        "\n",
        "def aes_encrypt_with_cryptography(input_data):\n",
        "    # Vary key size: 128-bit, 192-bit, 256-bit\n",
        "    key_size = random.choice([16, 24, 32])  # 16 bytes = 128-bit, 24 bytes = 192-bit, 32 bytes = 256-bit\n",
        "    key = os.urandom(key_size)  # Random key generation\n",
        "\n",
        "    # Vary mode of operation: CBC, GCM\n",
        "    aes_mode = random.choice([modes.CBC, modes.GCM])\n",
        "\n",
        "    # Generate random IV\n",
        "    iv = os.urandom(16)\n",
        "\n",
        "    input_data = input_data.encode('utf-8')\n",
        "\n",
        "    if aes_mode == modes.CBC:\n",
        "        cipher = Cipher(algorithms.AES(key), aes_mode(iv), backend=default_backend())\n",
        "        encryptor = cipher.encryptor()\n",
        "        padder = padding.PKCS7(algorithms.AES.block_size).padder()\n",
        "        padded_data = padder.update(input_data) + padder.finalize()\n",
        "        ciphertext = encryptor.update(padded_data) + encryptor.finalize()\n",
        "        final = iv + ciphertext\n",
        "        return final, final.hex(), key_size, aes_mode, iv  # IV + ciphertext\n",
        "    else:\n",
        "        cipher = Cipher(algorithms.AES(key), aes_mode(iv), backend=default_backend())\n",
        "        encryptor = cipher.encryptor()\n",
        "        ciphertext = encryptor.update(input_data) + encryptor.finalize()\n",
        "        tag = encryptor.tag\n",
        "        final = iv + ciphertext + tag\n",
        "        return final, final.hex(), key_size, aes_mode, iv  # IV + ciphertext + tag\n",
        "\n",
        "def generate_encrypted_dataset(num_texts=len(crypto_terms)):\n",
        "    dataset = []\n",
        "\n",
        "    for _ in range(num_texts):\n",
        "        # Choose a random cryptography term as the original plaintext\n",
        "        original_text = random.choice(crypto_terms)\n",
        "        crypto_terms.remove(original_text)\n",
        "\n",
        "        # Encrypt the text using RSA\n",
        "        encrypted_data, encrypted_hex, key_size, aes_mode, iv = aes_encrypt_with_cryptography(original_text)\n",
        "\n",
        "        # Append row with original text, encrypted binary, encrypted hex, and padding used\n",
        "        dataset.append([original_text, len(original_text), encrypted_data, encrypted_hex, key_size, aes_mode, iv, 'AES'])\n",
        "\n",
        "    return dataset\n",
        "\n",
        "# Generate dataset with crypto-related terms\n",
        "rsa_dataset = generate_encrypted_dataset()\n",
        "\n",
        "# Export dataset to CSV\n",
        "with open('rsaa1_encrypted1234569_dataset.csv', mode='w', newline='') as file:\n",
        "    writer = csv.writer(file)\n",
        "    writer.writerow([\"Original Text\", \"Length\", \"Encrypted Data (Binary)\", \"Encrypted Data (Hex)\", \"Key Size\", \"AES_Mode\", \"Intilisation_Vector\", \"Algorithm\"])\n",
        "    for row in rsa_dataset:\n",
        "        writer.writerow(row)"
      ],
      "metadata": {
        "id": "vkEWce-uAoFZ"
      },
      "execution_count": null,
      "outputs": []
    },
    {
      "cell_type": "code",
      "source": [],
      "metadata": {
        "id": "Y1MyMXhQED4i"
      },
      "execution_count": null,
      "outputs": []
    }
  ]
}