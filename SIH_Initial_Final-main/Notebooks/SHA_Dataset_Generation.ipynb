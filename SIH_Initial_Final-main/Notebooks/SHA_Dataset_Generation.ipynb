{
  "nbformat": 4,
  "nbformat_minor": 0,
  "metadata": {
    "colab": {
      "provenance": []
    },
    "kernelspec": {
      "name": "python3",
      "display_name": "Python 3"
    },
    "language_info": {
      "name": "python"
    }
  },
  "cells": [
    {
      "cell_type": "code",
      "execution_count": null,
      "metadata": {
        "colab": {
          "base_uri": "https://localhost:8080/"
        },
        "id": "zVBAWoUZFMJq",
        "outputId": "0df7fce4-9f51-4820-bb63-382768e56034"
      },
      "outputs": [
        {
          "output_type": "stream",
          "name": "stdout",
          "text": [
            "\u001b[31mERROR: Could not find a version that satisfies the requirement os (from versions: none)\u001b[0m\u001b[31m\n",
            "\u001b[0m\u001b[31mERROR: No matching distribution found for os\u001b[0m\u001b[31m\n",
            "\u001b[0m"
          ]
        }
      ],
      "source": [
        "%pip install os csv cryptography"
      ]
    },
    {
      "cell_type": "code",
      "source": [
        "import random\n",
        "\n",
        "def split_text(text, min_size=128, max_size=160):\n",
        "    blocks = []\n",
        "    while text:\n",
        "        # Choose a random block size between min_size and max_size\n",
        "        block_size = random.randint(min_size, max_size)\n",
        "\n",
        "        # Append the block to the list\n",
        "        blocks.append(text[:block_size])\n",
        "        text = text[block_size:]\n",
        "\n",
        "    return blocks\n",
        "\n",
        "# The ciphertext text provided\n",
        "ciphertext = \"\"\"\n",
        "\n",
        "\n",
        "\n",
        "\"\"\"\n",
        "\n",
        "# Split the text into blocks\n",
        "blocks = split_text(ciphertext)\n",
        "length_of_list = len(blocks)\n",
        "\n",
        "blocks, length_of_list"
      ],
      "metadata": {
        "colab": {
          "base_uri": "https://localhost:8080/"
        },
        "id": "zjb_OVrrFS5u",
        "outputId": "4f63e370-1c2d-48e2-b83a-e2863c024eda"
      },
      "execution_count": null,
      "outputs": [
        {
          "output_type": "execute_result",
          "data": {
            "text/plain": [
              "(['\\n\\n\\n\\n'], 1)"
            ]
          },
          "metadata": {},
          "execution_count": 1
        }
      ]
    },
    {
      "cell_type": "code",
      "source": [
        "from cryptography.hazmat.primitives import hashes\n",
        "from cryptography.hazmat.backends import default_backend\n",
        "import csv\n",
        "\n",
        "crypto_terms = blocks\n",
        "\n",
        "def hash_with_cryptography(input_data):\n",
        "    input_data = input_data.encode('utf-8')\n",
        "    # Vary the hashing algorithm\n",
        "    hash_algorithm = random.choice([hashes.SHA1(), hashes.SHA256(), hashes.SHA512()])\n",
        "\n",
        "    digest = hashes.Hash(hash_algorithm, backend=default_backend())\n",
        "    digest.update(input_data)\n",
        "    final = digest.finalize()\n",
        "    return final, final.hex(), hash_algorithm\n",
        "\n",
        "def generate_encrypted_dataset(num_texts=len(crypto_terms)):\n",
        "    dataset = []\n",
        "\n",
        "    for _ in range(num_texts):\n",
        "        # Choose a random cryptography term as the original plaintext\n",
        "        original_text = random.choice(crypto_terms)\n",
        "        crypto_terms.remove(original_text)\n",
        "\n",
        "        # Encrypt the text using RSA\n",
        "        encrypted_data, encrypted_hex, hash_algorithm = hash_with_cryptography(original_text)\n",
        "\n",
        "        # Append row with original text, encrypted binary, encrypted hex, and padding used\n",
        "        dataset.append([original_text, len(original_text), encrypted_data, encrypted_hex, hash_algorithm, 'SHA'])\n",
        "\n",
        "    return dataset\n",
        "\n",
        "# Generate dataset with crypto-related terms\n",
        "rsa_dataset = generate_encrypted_dataset()\n",
        "\n",
        "# Export dataset to CSV\n",
        "with open('rsaa1_encrypted1234_dataset.csv', mode='w', newline='') as file:\n",
        "    writer = csv.writer(file)\n",
        "    writer.writerow([\"Original Text\", \"Length\", \"Encrypted Data (Binary)\", \"Encrypted Data (Hex)\", \"Hash_Algorithm\", \"Algorithm\"])\n",
        "    for row in rsa_dataset:\n",
        "        writer.writerow(row)"
      ],
      "metadata": {
        "id": "MUW1Co-oFVPt"
      },
      "execution_count": null,
      "outputs": []
    },
    {
      "cell_type": "code",
      "source": [],
      "metadata": {
        "id": "QI7_6qWMJMso"
      },
      "execution_count": null,
      "outputs": []
    }
  ]
}